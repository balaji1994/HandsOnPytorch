{
 "cells": [
  {
   "cell_type": "code",
   "execution_count": 1,
   "id": "material-nursery",
   "metadata": {},
   "outputs": [],
   "source": [
    "%matplotlib inline"
   ]
  },
  {
   "cell_type": "code",
   "execution_count": 2,
   "id": "soviet-context",
   "metadata": {},
   "outputs": [],
   "source": [
    "from pathlib import Path\n",
    "import requests\n",
    "\n",
    "DATA_PATH = Path(\"data\")\n",
    "PATH = DATA_PATH / \"mnist\"\n",
    "\n",
    "PATH.mkdir(parents=True, exist_ok=True)\n",
    "\n",
    "URL = \"https://github.com/pytorch/tutorials/raw/master/_static/\"\n",
    "FILENAME = \"mnist.pkl.gz\"\n",
    "\n",
    "if not (PATH / FILENAME).exists():\n",
    "        content = requests.get(URL + FILENAME).content\n",
    "        (PATH / FILENAME).open(\"wb\").write(content)"
   ]
  },
  {
   "cell_type": "code",
   "execution_count": 15,
   "id": "rising-collection",
   "metadata": {},
   "outputs": [],
   "source": [
    "import pickle\n",
    "import gzip\n",
    "\n",
    "with gzip.open((PATH / FILENAME).as_posix(), \"rb\") as f:\n",
    "        ((x_train, y_train), (x_valid, y_valid), _) = pickle.load(f, encoding=\"latin-1\")"
   ]
  },
  {
   "cell_type": "code",
   "execution_count": 18,
   "id": "alleged-electron",
   "metadata": {},
   "outputs": [
    {
     "data": {
      "text/plain": [
       "<matplotlib.image.AxesImage at 0x21721c7b4f0>"
      ]
     },
     "execution_count": 18,
     "metadata": {},
     "output_type": "execute_result"
    },
    {
     "data": {
      "image/png": "[encoded data removed]",
      "text/plain": [
       "<Figure size 432x288 with 1 Axes>"
      ]
     },
     "metadata": {
      "needs_background": "light"
     },
     "output_type": "display_data"
    }
   ],
   "source": [
    "import matplotlib.pyplot as plt\n",
    "plt.imshow(x_train[2].reshape((28,28)),cmap=\"gray\")"
   ]
  },
  {
   "cell_type": "code",
   "execution_count": 32,
   "id": "allied-justice",
   "metadata": {},
   "outputs": [],
   "source": [
    "# Imports\n",
    "import torch\n",
    "from torch import nn\n",
    "from torch.utils.data import TensorDataset, DataLoader\n",
    "import torch.nn.functional as F"
   ]
  },
  {
   "cell_type": "code",
   "execution_count": 20,
   "id": "rural-berlin",
   "metadata": {},
   "outputs": [],
   "source": [
    "# Converting the numpy data into tensor\n",
    "x_train,y_train,x_test,y_test = map(torch.tensor,(x_train,y_train,x_valid,y_valid))"
   ]
  },
  {
   "cell_type": "code",
   "execution_count": 21,
   "id": "reserved-series",
   "metadata": {},
   "outputs": [
    {
     "name": "stdout",
     "output_type": "stream",
     "text": [
      "tensor([[0., 0., 0.,  ..., 0., 0., 0.],\n",
      "        [0., 0., 0.,  ..., 0., 0., 0.],\n",
      "        [0., 0., 0.,  ..., 0., 0., 0.],\n",
      "        ...,\n",
      "        [0., 0., 0.,  ..., 0., 0., 0.],\n",
      "        [0., 0., 0.,  ..., 0., 0., 0.],\n",
      "        [0., 0., 0.,  ..., 0., 0., 0.]]) tensor([5, 0, 4,  ..., 8, 4, 8])\n"
     ]
    }
   ],
   "source": [
    "print(x_train,y_train)"
   ]
  },
  {
   "cell_type": "code",
   "execution_count": 38,
   "id": "present-collapse",
   "metadata": {},
   "outputs": [],
   "source": [
    "n,c = x_train.shape\n",
    "bs = 64\n",
    "lr=1e-6\n",
    "N_epochs = 100"
   ]
  },
  {
   "cell_type": "code",
   "execution_count": 28,
   "id": "nutritional-commission",
   "metadata": {},
   "outputs": [],
   "source": [
    "# Dataloader\n",
    "train_ds = TensorDataset(x_train,y_train)\n",
    "train_dl = DataLoader(train_ds, batch_size=bs, shuffle=True)\n",
    "\n",
    "valid_ds = TensorDataset(x_test,y_test)\n",
    "valid_dl = DataLoader(valid_ds, batch_size=bs * 2)"
   ]
  },
  {
   "cell_type": "code",
   "execution_count": 40,
   "id": "modified-playlist",
   "metadata": {},
   "outputs": [],
   "source": [
    "# Defining the network using NN module\n",
    "class MnistLogistic(nn.Module):\n",
    "    def __init__(self):\n",
    "        super().__init__()\n",
    "        self.linear = nn.Linear(c,10)\n",
    "    \n",
    "    def forward(self,xb):\n",
    "        return self.linear(xb)\n"
   ]
  },
  {
   "cell_type": "code",
   "execution_count": 62,
   "id": "injured-posting",
   "metadata": {},
   "outputs": [],
   "source": [
    "def get_model():\n",
    "    model = MnistLogistic()\n",
    "    return model, torch.optim.RMSprop(model.parameters(),lr)"
   ]
  },
  {
   "cell_type": "code",
   "execution_count": 67,
   "id": "funky-ozone",
   "metadata": {},
   "outputs": [],
   "source": [
    "# Defining the dependencies before training\n",
    "model,opt = get_model()\n",
    "lossfn = F.cross_entropy"
   ]
  },
  {
   "cell_type": "code",
   "execution_count": 69,
   "id": "transparent-ireland",
   "metadata": {},
   "outputs": [],
   "source": [
    "def loss_batch(model,lossfn,xb,yb,opt):\n",
    "    pred = model(xb)\n",
    "    loss = lossfn(pred,yb)\n",
    "    if opt is not None:\n",
    "        loss.backward()\n",
    "        opt.step()\n",
    "        opt.zero_grad()\n",
    "    return loss.item(), len(xb)\n",
    "\n",
    "\n",
    "def fit(N_epochs, model, lossfn, opt, train_dl, valid_dl):\n",
    "    for epoch in range(N_epochs):\n",
    "        model.train()\n",
    "        \n",
    "        for xb,yb in train_dl:\n",
    "            loss_batch(model,lossfn,xb,yb,opt)\n",
    "        model.eval()\n",
    "\n",
    "        # Validation loss\n",
    "        with torch.no_grad():\n",
    "            valid_loss = sum(lossfn(model(xb), yb) for xb, yb in valid_dl)\n",
    "        print(epoch, valid_loss / len(valid_dl))"
   ]
  },
  {
   "cell_type": "code",
   "execution_count": 70,
   "id": "breathing-sauce",
   "metadata": {},
   "outputs": [
    {
     "name": "stdout",
     "output_type": "stream",
     "text": [
      "0 tensor(2.2851)\n",
      "1 tensor(2.2561)\n",
      "2 tensor(2.2277)\n",
      "3 tensor(2.1997)\n",
      "4 tensor(2.1722)\n",
      "5 tensor(2.1453)\n",
      "6 tensor(2.1188)\n",
      "7 tensor(2.0927)\n",
      "8 tensor(2.0669)\n",
      "9 tensor(2.0416)\n",
      "10 tensor(2.0167)\n",
      "11 tensor(1.9921)\n",
      "12 tensor(1.9679)\n",
      "13 tensor(1.9441)\n",
      "14 tensor(1.9207)\n",
      "15 tensor(1.8976)\n",
      "16 tensor(1.8748)\n",
      "17 tensor(1.8523)\n",
      "18 tensor(1.8301)\n",
      "19 tensor(1.8083)\n",
      "20 tensor(1.7868)\n",
      "21 tensor(1.7657)\n",
      "22 tensor(1.7448)\n",
      "23 tensor(1.7242)\n",
      "24 tensor(1.7040)\n",
      "25 tensor(1.6840)\n",
      "26 tensor(1.6643)\n",
      "27 tensor(1.6450)\n",
      "28 tensor(1.6259)\n",
      "29 tensor(1.6071)\n",
      "30 tensor(1.5886)\n",
      "31 tensor(1.5704)\n",
      "32 tensor(1.5526)\n",
      "33 tensor(1.5349)\n",
      "34 tensor(1.5175)\n",
      "35 tensor(1.5005)\n",
      "36 tensor(1.4837)\n",
      "37 tensor(1.4672)\n",
      "38 tensor(1.4509)\n",
      "39 tensor(1.4349)\n",
      "40 tensor(1.4192)\n",
      "41 tensor(1.4037)\n",
      "42 tensor(1.3885)\n",
      "43 tensor(1.3735)\n",
      "44 tensor(1.3588)\n",
      "45 tensor(1.3443)\n",
      "46 tensor(1.3301)\n",
      "47 tensor(1.3162)\n",
      "48 tensor(1.3024)\n",
      "49 tensor(1.2888)\n",
      "50 tensor(1.2756)\n",
      "51 tensor(1.2625)\n",
      "52 tensor(1.2496)\n",
      "53 tensor(1.2370)\n",
      "54 tensor(1.2246)\n",
      "55 tensor(1.2124)\n",
      "56 tensor(1.2004)\n",
      "57 tensor(1.1886)\n",
      "58 tensor(1.1771)\n",
      "59 tensor(1.1657)\n",
      "60 tensor(1.1546)\n",
      "61 tensor(1.1436)\n",
      "62 tensor(1.1329)\n",
      "63 tensor(1.1223)\n",
      "64 tensor(1.1119)\n",
      "65 tensor(1.1017)\n",
      "66 tensor(1.0916)\n",
      "67 tensor(1.0818)\n",
      "68 tensor(1.0721)\n",
      "69 tensor(1.0626)\n",
      "70 tensor(1.0532)\n",
      "71 tensor(1.0440)\n",
      "72 tensor(1.0350)\n",
      "73 tensor(1.0261)\n",
      "74 tensor(1.0174)\n",
      "75 tensor(1.0088)\n",
      "76 tensor(1.0004)\n",
      "77 tensor(0.9921)\n",
      "78 tensor(0.9839)\n",
      "79 tensor(0.9759)\n",
      "80 tensor(0.9681)\n",
      "81 tensor(0.9603)\n",
      "82 tensor(0.9528)\n",
      "83 tensor(0.9453)\n",
      "84 tensor(0.9379)\n",
      "85 tensor(0.9307)\n",
      "86 tensor(0.9236)\n",
      "87 tensor(0.9167)\n",
      "88 tensor(0.9098)\n",
      "89 tensor(0.9031)\n",
      "90 tensor(0.8964)\n",
      "91 tensor(0.8899)\n",
      "92 tensor(0.8835)\n",
      "93 tensor(0.8772)\n",
      "94 tensor(0.8710)\n",
      "95 tensor(0.8649)\n",
      "96 tensor(0.8589)\n",
      "97 tensor(0.8530)\n",
      "98 tensor(0.8472)\n",
      "99 tensor(0.8415)\n"
     ]
    }
   ],
   "source": [
    "fit(N_epochs,model,lossfn,opt,train_dl,valid_dl)"
   ]
  },
  {
   "cell_type": "code",
   "execution_count": 59,
   "id": "delayed-playlist",
   "metadata": {},
   "outputs": [
    {
     "name": "stdout",
     "output_type": "stream",
     "text": [
      "Prediction  5\n"
     ]
    },
    {
     "data": {
      "text/plain": [
       "<matplotlib.image.AxesImage at 0x21721983bb0>"
      ]
     },
     "execution_count": 59,
     "metadata": {},
     "output_type": "execute_result"
    },
    {
     "data": {
      "image/png": "[encoded data removed]",
      "text/plain": [
       "<Figure size 432x288 with 1 Axes>"
      ]
     },
     "metadata": {
      "needs_background": "light"
     },
     "output_type": "display_data"
    }
   ],
   "source": [
    "print(\"Prediction \",model(x_test[10]).detach().numpy().argmax())\n",
    "plt.imshow(x_test[10].numpy().reshape((28,28)),cmap=\"gray\")"
   ]
  },
  {
   "cell_type": "markdown",
   "id": "earned-western",
   "metadata": {},
   "source": [
    "## Using CNN"
   ]
  },
  {
   "cell_type": "code",
   "execution_count": null,
   "id": "damaged-horror",
   "metadata": {},
   "outputs": [],
   "source": []
  }
 ],
 "metadata": {
  "kernelspec": {
   "display_name": "pytorch",
   "language": "python",
   "name": "pytorch"
  },
  "language_info": {
   "codemirror_mode": {
    "name": "ipython",
    "version": 3
   },
   "file_extension": ".py",
   "mimetype": "text/x-python",
   "name": "python",
   "nbconvert_exporter": "python",
   "pygments_lexer": "ipython3",
   "version": "3.8.5"
  }
 },
 "nbformat": 4,
 "nbformat_minor": 5
}
